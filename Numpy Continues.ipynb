{
 "cells": [
  {
   "cell_type": "markdown",
   "id": "b1781094-4d02-43ec-b96d-369f794aaca8",
   "metadata": {},
   "source": [
    "# 13. Reshape Function - will not alter the original data"
   ]
  },
  {
   "cell_type": "code",
   "execution_count": 14,
   "id": "ae5633d2-4439-4ba3-b28e-0737d9cc1920",
   "metadata": {},
   "outputs": [],
   "source": [
    "import numpy as np"
   ]
  },
  {
   "cell_type": "code",
   "execution_count": 16,
   "id": "75be985e-61c6-481e-bebe-5666b3448e34",
   "metadata": {},
   "outputs": [
    {
     "name": "stdout",
     "output_type": "stream",
     "text": [
      "(3, 4)\n",
      "[[ 2 12  1  7]\n",
      " [ 1  1 12  8]\n",
      " [13 13  4  3]]\n",
      "[[ 2 12  1]\n",
      " [ 7  1  1]\n",
      " [12  8 13]\n",
      " [13  4  3]]\n",
      "(4, 3)\n"
     ]
    }
   ],
   "source": [
    "arr = np.random.randint(1,15,(3,4))\n",
    "\n",
    "print(arr.shape)\n",
    "print(arr)\n",
    "arr = arr.reshape(4,3)\n",
    "print(arr)\n",
    "print(arr.shape)"
   ]
  },
  {
   "cell_type": "markdown",
   "id": "ef3cae35-0d13-4afc-acfa-7b6451e448ee",
   "metadata": {},
   "source": [
    "# 14. Linspace Function"
   ]
  },
  {
   "cell_type": "code",
   "execution_count": 18,
   "id": "bbf2c9a6-fed2-4876-b876-075e8af636c2",
   "metadata": {},
   "outputs": [
    {
     "data": {
      "text/plain": [
       "array([ 1.  ,  3.25,  5.5 ,  7.75, 10.  ])"
      ]
     },
     "execution_count": 18,
     "metadata": {},
     "output_type": "execute_result"
    }
   ],
   "source": [
    "np.linspace(1,10,5)"
   ]
  },
  {
   "cell_type": "markdown",
   "id": "00f2d2e2-2668-4835-9936-31a320e49dda",
   "metadata": {},
   "source": [
    "# 15. Flatten Function"
   ]
  },
  {
   "cell_type": "code",
   "execution_count": 36,
   "id": "c5e13576-b686-4273-b583-0489c0a2d830",
   "metadata": {},
   "outputs": [
    {
     "name": "stdout",
     "output_type": "stream",
     "text": [
      "(3, 4)\n",
      "[[14  9  4  6]\n",
      " [ 9  5  5  6]\n",
      " [ 2  5 11  5]]\n",
      "(12,)\n",
      "[14  9  4  6  9  5  5  6  2  5 11  5]\n"
     ]
    }
   ],
   "source": [
    "arr = np.random.randint(1,15,(3,4))\n",
    "\n",
    "print(arr.shape)\n",
    "print(arr)\n",
    "arr = arr.flatten()\n",
    "print(arr.shape)\n",
    "print(arr)"
   ]
  },
  {
   "cell_type": "markdown",
   "id": "ba65be92-d51b-466f-9fd5-625a86cc561c",
   "metadata": {},
   "source": [
    "# 16. LogSpace Function"
   ]
  },
  {
   "cell_type": "code",
   "execution_count": 20,
   "id": "bee5e5dc-2249-4491-bdc1-648b63d02163",
   "metadata": {},
   "outputs": [
    {
     "name": "stdout",
     "output_type": "stream",
     "text": [
      "[  100.           166.81005372   278.25594022   464.15888336\n",
      "   774.26368268  1291.54966501  2154.43469003  3593.8136638\n",
      "  5994.84250319 10000.        ]\n",
      "--------------------\n",
      "[ 4.          4.66611616  5.44316     6.34960421  7.4069977   8.64047791\n",
      " 10.0793684  11.75787594 13.71590373 16.        ]\n"
     ]
    }
   ],
   "source": [
    "print(np.logspace(2,4, 10))\n",
    "\n",
    "print(\"-\"* 20)\n",
    "\n",
    "print(np.logspace(2,4,10, base = 2))"
   ]
  },
  {
   "cell_type": "markdown",
   "id": "dfcb7c95-d629-4f5d-998d-37162752e333",
   "metadata": {},
   "source": [
    "# 17. Copy Function"
   ]
  },
  {
   "cell_type": "code",
   "execution_count": 22,
   "id": "d3f67c0b-5f77-4f16-ae20-dfbe8f980e4a",
   "metadata": {},
   "outputs": [
    {
     "name": "stdout",
     "output_type": "stream",
     "text": [
      "[12  2  9 11  4  9  6 13  3  4] 5560850000\n",
      "[12  2  9 11  4  9  6 13  3  4] 5560850000\n",
      "--------------------------------------------------\n",
      "[11  3  2 14  5 14  3  5  5  9] 5560846160\n",
      "[11  3  2 14  5 14  3  5  5  9] 5560859696\n"
     ]
    }
   ],
   "source": [
    "arr1 = np.random.randint(1,15,10)\n",
    "\n",
    "arr2 = arr1\n",
    "\n",
    "print(arr1, id(arr1))\n",
    "print(arr2, id(arr2))\n",
    "\n",
    "print(\"-\"*50)\n",
    "\n",
    "arr1 = np.random.randint(1,15,10)\n",
    "arr2 = np.copy(arr1)\n",
    "\n",
    "print(arr1, id(arr1))\n",
    "print(arr2, id(arr2))\n"
   ]
  },
  {
   "cell_type": "markdown",
   "id": "9ae3564d-131c-4824-a084-701db34438a7",
   "metadata": {},
   "source": [
    "# 18. arr.max(), arr.min(), arr.sum() Functions"
   ]
  },
  {
   "cell_type": "code",
   "execution_count": 24,
   "id": "4d7aaa95-b64a-4b86-81f1-675b8fcfaad5",
   "metadata": {},
   "outputs": [
    {
     "name": "stdout",
     "output_type": "stream",
     "text": [
      "------------------------------\n",
      "[[ 9  1  5 11  4]\n",
      " [ 1  9  8  3 13]\n",
      " [14  8  5  4  7]]\n",
      "------------------------------\n",
      "Max: 14\n",
      "Min: 1\n",
      "Sum: 102\n"
     ]
    }
   ],
   "source": [
    "arr = np.random.randint(1,15,(3,5))\n",
    "\n",
    "print(\"-\"*30)\n",
    "print(arr)\n",
    "print(\"-\"*30)\n",
    "\n",
    "print(\"Max:\", arr.max())\n",
    "print(\"Min:\", arr.min())\n",
    "print(\"Sum:\", arr.sum())\n"
   ]
  },
  {
   "cell_type": "markdown",
   "id": "9721ea40-2484-4bdf-ac71-f0b239e74652",
   "metadata": {},
   "source": [
    "# Axis Parameter to get max, min, sum Functions() "
   ]
  },
  {
   "cell_type": "code",
   "execution_count": 26,
   "id": "f238de88-6b3f-4e9d-b458-8caa17249a03",
   "metadata": {},
   "outputs": [
    {
     "name": "stdout",
     "output_type": "stream",
     "text": [
      "Max: [14  9  8 11 13]\n",
      "Min: [1 1 5 3 4]\n",
      "Sum: [24 18 18 18 24]\n",
      "______________________________\n",
      "Max: [11 13 14]\n",
      "Min: [1 1 4]\n",
      "Sum: [30 34 38]\n"
     ]
    }
   ],
   "source": [
    "print(\"Max:\", arr.max( axis = 0 ))\n",
    "print(\"Min:\", arr.min( axis = 0 ))\n",
    "print(\"Sum:\", arr.sum( axis = 0))\n",
    "\n",
    "# Axis 0 for the max,min,sum in each column\n",
    "print(\"_\"*30)\n",
    "\n",
    "print(\"Max:\", arr.max( axis = 1 ))\n",
    "print(\"Min:\", arr.min( axis = 1 ))\n",
    "print(\"Sum:\", arr.sum( axis = 1))\n",
    "\n",
    "# Axis 1 for the max,min,sum in each row"
   ]
  },
  {
   "cell_type": "markdown",
   "id": "5791213e-1f7c-4914-95de-d93b86bb467a",
   "metadata": {},
   "source": [
    "# 19. Seed Function"
   ]
  },
  {
   "cell_type": "code",
   "execution_count": 28,
   "id": "f16c37b6-42fa-4080-9878-af4adf27cb25",
   "metadata": {},
   "outputs": [
    {
     "name": "stdout",
     "output_type": "stream",
     "text": [
      "[[9 4 9 9 1]\n",
      " [6 4 6 8 7]\n",
      " [1 5 8 9 2]]\n"
     ]
    }
   ],
   "source": [
    "np.random.seed(3)\n",
    "\n",
    "arr = np.random.randint(1,10,(3,5))\n",
    "\n",
    "print(arr)"
   ]
  },
  {
   "cell_type": "markdown",
   "id": "ed2a81c9-e903-4e53-85cb-513d0cbcf062",
   "metadata": {},
   "source": [
    "# 20. Sort Function"
   ]
  },
  {
   "cell_type": "code",
   "execution_count": 30,
   "id": "f40d9d6c-4de1-424c-9586-cb7fadaa88ba",
   "metadata": {},
   "outputs": [
    {
     "name": "stdout",
     "output_type": "stream",
     "text": [
      "---------------\n",
      "[[9 4 9 9 1]\n",
      " [6 4 6 8 7]\n",
      " [1 5 8 9 2]]\n",
      "---------------\n",
      "[[1 4 9 9 9]\n",
      " [4 6 6 7 8]\n",
      " [1 2 5 8 9]]\n",
      "---------------\n",
      "[[1 4 6 8 1]\n",
      " [6 4 8 9 2]\n",
      " [9 5 9 9 7]]\n",
      "---------------\n",
      "[[1 1 2 4 4]\n",
      " [5 6 6 7 8]\n",
      " [8 9 9 9 9]]\n",
      "---------------\n"
     ]
    }
   ],
   "source": [
    "np.random.seed(3)\n",
    "arr = np.random.randint(1,10,(3,5))\n",
    "\n",
    "print(\"-\"*15)\n",
    "print(arr)\n",
    "print(\"-\"*15)\n",
    "print(np.sort(arr, axis =1))\n",
    "print(\"-\"*15)\n",
    "print(np.sort(arr,axis = 0))\n",
    "print(\"-\"*15)\n",
    "\n",
    "arr = np.reshape(np.sort(arr.flatten()), arr.shape)\n",
    "print(arr)\n",
    "print(\"-\"*15)\n"
   ]
  },
  {
   "cell_type": "markdown",
   "id": "4613fc8e-c516-45d9-aa9e-8d4f4dbb4d42",
   "metadata": {},
   "source": [
    "# We can choose which type of sort we want to perform"
   ]
  },
  {
   "cell_type": "code",
   "execution_count": 32,
   "id": "112ed022-cb0a-487a-890d-3b76dd2dcf8d",
   "metadata": {},
   "outputs": [
    {
     "name": "stdout",
     "output_type": "stream",
     "text": [
      "[[1 1 2 4 4]\n",
      " [5 6 6 7 8]\n",
      " [8 9 9 9 9]]\n"
     ]
    }
   ],
   "source": [
    "print(np.sort(arr, axis  = 0, kind= \"mergesort\"))"
   ]
  },
  {
   "cell_type": "markdown",
   "id": "7270307c-b5f4-4080-9617-57f7e2a92310",
   "metadata": {},
   "source": [
    "# 20. Mathematical Operations"
   ]
  },
  {
   "cell_type": "code",
   "execution_count": 34,
   "id": "08c6d5ac-17ce-46cc-8a27-8c01463d60a7",
   "metadata": {},
   "outputs": [
    {
     "name": "stdout",
     "output_type": "stream",
     "text": [
      "---------------\n",
      "[[9 4 9 9 1]\n",
      " [6 4 6 8 7]\n",
      " [1 5 8 9 2]]\n",
      "---------------\n",
      "[[10  5 10 10  2]\n",
      " [ 7  5  7  9  8]\n",
      " [ 2  6  9 10  3]]\n",
      "---------------\n"
     ]
    }
   ],
   "source": [
    "# addition\n",
    "np.random.seed(3)\n",
    "\n",
    "arr = np.random.randint(1,10,(3,5))\n",
    "\n",
    "print(\"-\"*15)\n",
    "print(arr)\n",
    "print(\"-\"*15)\n",
    "print(arr+1)\n",
    "print(\"-\"*15)\n",
    "\n",
    "\n"
   ]
  },
  {
   "cell_type": "code",
   "execution_count": 36,
   "id": "8e0390df-69c4-4972-ab8f-a6368c1b5c39",
   "metadata": {},
   "outputs": [
    {
     "name": "stdout",
     "output_type": "stream",
     "text": [
      "---------------\n",
      "[[9 4 9 9 1]\n",
      " [6 4 6 8 7]\n",
      " [1 5 8 9 2]]\n",
      "---------------\n",
      "[[8 3 8 8 0]\n",
      " [5 3 5 7 6]\n",
      " [0 4 7 8 1]]\n",
      "---------------\n"
     ]
    }
   ],
   "source": [
    "# subtraction\n",
    "\n",
    "print(\"-\"*15)\n",
    "print(arr)\n",
    "print(\"-\"*15)\n",
    "print(arr - 1)\n",
    "print(\"-\"*15)"
   ]
  },
  {
   "cell_type": "code",
   "execution_count": 40,
   "id": "7b0bba40-3170-4bc7-85cf-2103c984e934",
   "metadata": {},
   "outputs": [
    {
     "name": "stdout",
     "output_type": "stream",
     "text": [
      "---------------\n",
      "[[7 3 3 2 4]\n",
      " [6 9 2 9 8]\n",
      " [9 2 1 6 5]]\n",
      "---------------\n",
      "[[14  6  6  4  8]\n",
      " [12 18  4 18 16]\n",
      " [18  4  2 12 10]]\n",
      "---------------\n"
     ]
    }
   ],
   "source": [
    "# multiply\n",
    "print(\"-\"*15)\n",
    "print(arr)\n",
    "print(\"-\"*15)\n",
    "print(arr*2)\n",
    "print(\"-\"*15)"
   ]
  },
  {
   "cell_type": "code",
   "execution_count": 101,
   "id": "f3c0c241-d130-42ed-a6c1-dca6156f691b",
   "metadata": {},
   "outputs": [
    {
     "name": "stdout",
     "output_type": "stream",
     "text": [
      "---------------\n",
      "[[9 4 9 9 1]\n",
      " [6 4 6 8 7]\n",
      " [1 5 8 9 2]]\n",
      "---------------\n",
      "[[4 2 4 4 0]\n",
      " [3 2 3 4 3]\n",
      " [0 2 4 4 1]]\n",
      "---------------\n"
     ]
    }
   ],
   "source": [
    "# Divison\n",
    "\n",
    "print(\"-\"*15)\n",
    "print(arr)\n",
    "print(\"-\"*15)\n",
    "print(arr // 2)\n",
    "print(\"-\"*15)"
   ]
  },
  {
   "cell_type": "code",
   "execution_count": 121,
   "id": "78b771c1-facd-4566-9ef4-febe50b6f291",
   "metadata": {},
   "outputs": [
    {
     "data": {
      "text/plain": [
       "array([[ 25,  78],\n",
       "       [ 45, 108]])"
      ]
     },
     "execution_count": 121,
     "metadata": {},
     "output_type": "execute_result"
    }
   ],
   "source": [
    "# matrix multiplication\n",
    "\n",
    "np.random.seed(3)\n",
    "\n",
    "arr1 = np.random.randint(1,10,(2,2))\n",
    "arr2  = np.random.randint(1,10,(2,2))\n",
    "\n",
    "arr1\n",
    "arr1.dot(arr2)"
   ]
  },
  {
   "cell_type": "code",
   "execution_count": 119,
   "id": "6cec27e6-9d81-4f55-8829-756e1d6c5a5f",
   "metadata": {},
   "outputs": [
    {
     "name": "stdout",
     "output_type": "stream",
     "text": [
      "[[9 4 9 9 1]\n",
      " [6 4 6 8 7]\n",
      " [1 5 8 9 2]]\n",
      "---------------\n",
      "[[81 16 81 81  1]\n",
      " [36 16 36 64 49]\n",
      " [ 1 25 64 81  4]]\n"
     ]
    }
   ],
   "source": [
    "# Power\n",
    "\n",
    "print(arr)\n",
    "print(\"-\"*15)\n",
    "print(arr ** 2)"
   ]
  },
  {
   "cell_type": "markdown",
   "id": "13b066ac-9074-405b-9394-cff4461b6783",
   "metadata": {},
   "source": [
    "# 21. Percentile Function"
   ]
  },
  {
   "cell_type": "code",
   "execution_count": 126,
   "id": "cd68c879-3594-4dc3-9320-595865946d5b",
   "metadata": {},
   "outputs": [
    {
     "name": "stdout",
     "output_type": "stream",
     "text": [
      "[9 4 9 9 1 6 4 6 8 7]\n",
      "[1 4 4 6 6 7 8 9 9 9]\n",
      "6.5\n"
     ]
    }
   ],
   "source": [
    "np.random.seed(3)\n",
    "\n",
    "arr = np.random.randint(1,10,10)\n",
    "print(arr)\n",
    "\n",
    "arr = np.sort(arr)\n",
    "print(arr)\n",
    "\n",
    "print(np.percentile(arr,50))"
   ]
  },
  {
   "cell_type": "markdown",
   "id": "2e745ac8-982f-43c8-8396-9c13b2842bdb",
   "metadata": {},
   "source": [
    "# 22. Mean, Variance and Standard Deviation"
   ]
  },
  {
   "cell_type": "code",
   "execution_count": 135,
   "id": "a5b8fe77-b864-4ab7-99e3-9cb0f7f04ec1",
   "metadata": {},
   "outputs": [
    {
     "name": "stdout",
     "output_type": "stream",
     "text": [
      "[9 4 9 9 1 6 4 6 8 7]\n",
      "Mean: 6.3\n",
      "Std: 2.5317977802344327\n",
      "Var 6.410000000000001\n"
     ]
    }
   ],
   "source": [
    "np.random.seed(3)\n",
    "\n",
    "arr = np.random.randint(1,10,10)\n",
    "print(arr)\n",
    "print( \"Mean:\", arr.mean())\n",
    "print(\"Std:\",  arr.std())\n",
    "print(\"Var\", arr.var())"
   ]
  },
  {
   "cell_type": "markdown",
   "id": "b1439fd6-011f-4fc7-9c84-b2ea5e25bee3",
   "metadata": {},
   "source": [
    "# 23. Filtering an numpy array"
   ]
  },
  {
   "cell_type": "code",
   "execution_count": 144,
   "id": "7b973131-4b40-457c-b667-df35d4bdfc1e",
   "metadata": {},
   "outputs": [
    {
     "name": "stdout",
     "output_type": "stream",
     "text": [
      "[1 2 3 4 5 6 7 8 9]\n",
      "[ True  True  True  True False False False False False]\n",
      "[1 2 3 4]\n"
     ]
    }
   ],
   "source": [
    "arr = np.arange(1,10)\n",
    "\n",
    "print(arr)\n",
    "print(arr < 5)\n",
    "arr2  = (arr[arr<5])\n",
    "print(arr2)\n"
   ]
  },
  {
   "cell_type": "code",
   "execution_count": 150,
   "id": "25828360-02d4-440c-8ecd-380d9f8be3fa",
   "metadata": {},
   "outputs": [
    {
     "name": "stdout",
     "output_type": "stream",
     "text": [
      "[ 1  2  3  4  5 10 10 10 10]\n"
     ]
    }
   ],
   "source": [
    "# replace the value of 5 with 10\n",
    "\n",
    "arr[arr>5] = 10\n",
    "print(arr)"
   ]
  },
  {
   "cell_type": "markdown",
   "id": "335f5328-12a7-4dea-bda2-20810deb86c2",
   "metadata": {},
   "source": [
    "# 24. Transposing an array"
   ]
  },
  {
   "cell_type": "code",
   "execution_count": 153,
   "id": "0b21e1ff-d1b6-4415-b602-66aee7cfa427",
   "metadata": {},
   "outputs": [
    {
     "name": "stdout",
     "output_type": "stream",
     "text": [
      "[[ 1 13  8 15 18]\n",
      " [ 3  3  2  6  9]\n",
      " [15  2 11  8 12]]\n",
      "---------------\n",
      "[[ 1  3 15]\n",
      " [13  3  2]\n",
      " [ 8  2 11]\n",
      " [15  6  8]\n",
      " [18  9 12]]\n",
      "---------------\n"
     ]
    }
   ],
   "source": [
    "arr = np.random.randint(1,20,(3,5))\n",
    "\n",
    "print(arr)\n",
    "print(\"-\"*15)\n",
    "\n",
    "print(arr.T)\n",
    "print(\"-\"*15)"
   ]
  },
  {
   "cell_type": "markdown",
   "id": "b7f5fe12-7961-4225-aab3-41349bc0f03c",
   "metadata": {},
   "source": [
    "# 25. Where Function"
   ]
  },
  {
   "cell_type": "code",
   "execution_count": 45,
   "id": "359c29e4-5c55-4d8b-97c1-40f4bf7c54cf",
   "metadata": {},
   "outputs": [
    {
     "data": {
      "text/plain": [
       "array([38, 57, 57, 72, 38, 47, 34,  2, 86, 75])"
      ]
     },
     "execution_count": 45,
     "metadata": {},
     "output_type": "execute_result"
    }
   ],
   "source": [
    "arr = np.random.randint(1,100,10)\n",
    "arr"
   ]
  },
  {
   "cell_type": "code",
   "execution_count": 57,
   "id": "af7ed3e4-a9b1-4de5-af20-a82ce5d46de2",
   "metadata": {},
   "outputs": [
    {
     "name": "stdout",
     "output_type": "stream",
     "text": [
      "['even' '57' '57' 'even' 'even' '47' 'even' 'even' 'even' '75']\n",
      "['38' 'odd' 'odd' '72' '38' 'odd' '34' '2' '86' 'odd']\n",
      "['even' 'odd' 'odd' 'even' 'even' 'odd' 'even' 'even' 'even' 'odd']\n"
     ]
    }
   ],
   "source": [
    "print(np.where(arr%2 == 0, 'even', arr))\n",
    "print(np.where(arr%2 != 0, 'odd', arr))\n",
    "\n",
    "arr1 = np.where(arr%2 == 0, 'even', arr)\n",
    "arr1 = np.where(arr%2 != 0, 'odd', arr1)\n",
    "\n",
    "print(arr1)"
   ]
  }
 ],
 "metadata": {
  "kernelspec": {
   "display_name": "Python [conda env:base] *",
   "language": "python",
   "name": "conda-base-py"
  },
  "language_info": {
   "codemirror_mode": {
    "name": "ipython",
    "version": 3
   },
   "file_extension": ".py",
   "mimetype": "text/x-python",
   "name": "python",
   "nbconvert_exporter": "python",
   "pygments_lexer": "ipython3",
   "version": "3.12.7"
  }
 },
 "nbformat": 4,
 "nbformat_minor": 5
}
