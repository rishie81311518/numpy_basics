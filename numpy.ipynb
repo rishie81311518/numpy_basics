{
 "cells": [
  {
   "cell_type": "code",
   "execution_count": 1,
   "id": "0df6ad8f-2914-4e3f-b340-3174895de195",
   "metadata": {},
   "outputs": [],
   "source": [
    "import numpy as np"
   ]
  },
  {
   "cell_type": "markdown",
   "id": "9afb7632-007f-4eab-a8f0-bed55a54e1ad",
   "metadata": {},
   "source": [
    "# 1. Converting a List to Array"
   ]
  },
  {
   "cell_type": "code",
   "execution_count": 3,
   "id": "0fbe71d7-fe56-4912-be4e-08593a9e4bb3",
   "metadata": {},
   "outputs": [
    {
     "name": "stdout",
     "output_type": "stream",
     "text": [
      "<class 'list'>\n"
     ]
    },
    {
     "data": {
      "text/plain": [
       "array([ 1,  2,  3, 34,  5,  9])"
      ]
     },
     "execution_count": 3,
     "metadata": {},
     "output_type": "execute_result"
    }
   ],
   "source": [
    "lst = [1,2,3,34,5,9]\n",
    "print(type(lst))\n",
    "np.array(lst)"
   ]
  },
  {
   "cell_type": "code",
   "execution_count": 4,
   "id": "45b77af1-e90b-4476-b1cd-7d9aa7b8bc90",
   "metadata": {},
   "outputs": [
    {
     "data": {
      "text/plain": [
       "numpy.ndarray"
      ]
     },
     "execution_count": 4,
     "metadata": {},
     "output_type": "execute_result"
    }
   ],
   "source": [
    "type(np.array(lst))"
   ]
  },
  {
   "cell_type": "code",
   "execution_count": 5,
   "id": "716bb485-cac1-4a8e-97ab-b12ac09dc326",
   "metadata": {},
   "outputs": [],
   "source": [
    "arr = np.array(lst, ndmin = 2)"
   ]
  },
  {
   "cell_type": "code",
   "execution_count": 6,
   "id": "59176d01-144f-4ab6-a798-465243be111b",
   "metadata": {},
   "outputs": [
    {
     "data": {
      "text/plain": [
       "array([[ 1,  2,  3, 34,  5,  9]])"
      ]
     },
     "execution_count": 6,
     "metadata": {},
     "output_type": "execute_result"
    }
   ],
   "source": [
    "arr"
   ]
  },
  {
   "cell_type": "markdown",
   "id": "2fba2358-6e39-4c4a-94de-e635b96cab80",
   "metadata": {},
   "source": [
    "# 2. Arrange Function"
   ]
  },
  {
   "cell_type": "code",
   "execution_count": 8,
   "id": "ee60001f-aa51-4480-9535-d6bd0121415b",
   "metadata": {},
   "outputs": [
    {
     "data": {
      "text/plain": [
       "array([1, 4, 7])"
      ]
     },
     "execution_count": 8,
     "metadata": {},
     "output_type": "execute_result"
    }
   ],
   "source": [
    "np.arange(1,10,3)"
   ]
  },
  {
   "cell_type": "code",
   "execution_count": 9,
   "id": "daa2d042-54d2-4ba6-8911-f48050f9f0f8",
   "metadata": {},
   "outputs": [
    {
     "data": {
      "text/plain": [
       "array([ 1,  2,  3,  4,  5,  6,  7,  8,  9, 10, 11, 12, 13, 14, 15, 16, 17,\n",
       "       18, 19])"
      ]
     },
     "execution_count": 9,
     "metadata": {},
     "output_type": "execute_result"
    }
   ],
   "source": [
    "np.arange(1,20)"
   ]
  },
  {
   "cell_type": "code",
   "execution_count": 10,
   "id": "c27731d1-0aaa-4db9-a557-6b37d1ec2ca5",
   "metadata": {},
   "outputs": [
    {
     "name": "stdout",
     "output_type": "stream",
     "text": [
      "4\n",
      "9\n",
      "14\n",
      "19\n"
     ]
    }
   ],
   "source": [
    "for i in range(4,20,5):\n",
    "    print(i)"
   ]
  },
  {
   "cell_type": "markdown",
   "id": "b4d1b1b8-8bc4-44fb-8ad4-b0b8aa27a7ac",
   "metadata": {},
   "source": [
    "# 3. Multidimensional Array"
   ]
  },
  {
   "cell_type": "code",
   "execution_count": 12,
   "id": "d8688558-2b71-4f98-8f4a-617b4b20eaf6",
   "metadata": {},
   "outputs": [
    {
     "data": {
      "text/plain": [
       "array([[ 2,  3,  4],\n",
       "       [ 7,  8,  9],\n",
       "       [45, 66, 43]])"
      ]
     },
     "execution_count": 12,
     "metadata": {},
     "output_type": "execute_result"
    }
   ],
   "source": [
    " arr = np.array([[2,3,4],[7,8,9],[45,66,43]])\n",
    "arr"
   ]
  },
  {
   "cell_type": "markdown",
   "id": "1efa979f-7ade-4d13-b718-f04f2d75effb",
   "metadata": {},
   "source": [
    "# 4.Size Function"
   ]
  },
  {
   "cell_type": "code",
   "execution_count": 14,
   "id": "75c61f7b-3d90-4432-9cf4-41f28b7401d1",
   "metadata": {},
   "outputs": [
    {
     "name": "stdout",
     "output_type": "stream",
     "text": [
      "Total size:  12\n",
      "Rows: 4\n",
      "Columns: 3\n"
     ]
    },
    {
     "data": {
      "text/plain": [
       "array([[ 1,  2,  3],\n",
       "       [ 4,  5,  6],\n",
       "       [93,  9, 20],\n",
       "       [88, 23, 45]])"
      ]
     },
     "execution_count": 14,
     "metadata": {},
     "output_type": "execute_result"
    }
   ],
   "source": [
    "arr = np.array([[1,2,3],[4,5,6],[93,9,20],[88,23,45]])\n",
    "\n",
    "print(\"Total size: \", arr.size)\n",
    "print(\"Rows:\", np.size(arr,0))\n",
    "print(\"Columns:\", np.size(arr,1))\n",
    "\n",
    "arr"
   ]
  },
  {
   "cell_type": "code",
   "execution_count": 15,
   "id": "75e8e015-9988-4f8b-89ba-f75edba22a40",
   "metadata": {},
   "outputs": [
    {
     "data": {
      "text/plain": [
       "(4, 3)"
      ]
     },
     "execution_count": 15,
     "metadata": {},
     "output_type": "execute_result"
    }
   ],
   "source": [
    "arr.shape"
   ]
  },
  {
   "cell_type": "markdown",
   "id": "7789e6e5-df42-43ad-855d-13a93fa491f0",
   "metadata": {},
   "source": [
    "# 5. Shape Function"
   ]
  },
  {
   "cell_type": "code",
   "execution_count": 17,
   "id": "cf4a6019-e4a5-4faa-b5ba-936ce7ace6f9",
   "metadata": {},
   "outputs": [
    {
     "name": "stdout",
     "output_type": "stream",
     "text": [
      "(3, 3)\n",
      "(3, 3)\n"
     ]
    }
   ],
   "source": [
    "arr = np.array([[18,9,9],[43,3,55],[2,23,67]])\n",
    "\n",
    "print((np.size(arr,0), np.size(arr,1)))\n",
    "print(arr.shape)"
   ]
  },
  {
   "cell_type": "markdown",
   "id": "21f4ef5c-9f30-4714-ad2f-450d9d10e295",
   "metadata": {},
   "source": [
    "# 6. Dtype Function"
   ]
  },
  {
   "cell_type": "code",
   "execution_count": 19,
   "id": "d8783dcd-117b-4a1e-8dd0-769649f0db35",
   "metadata": {},
   "outputs": [
    {
     "name": "stdout",
     "output_type": "stream",
     "text": [
      "int64\n",
      "float64\n"
     ]
    }
   ],
   "source": [
    "arr1 = np.array([18,9,9,23,90,20])\n",
    "arr2 = np.array([1,2,3,4.5,6.9,7.0])\n",
    "print(arr1.dtype)\n",
    "print(arr2.dtype)"
   ]
  },
  {
   "cell_type": "code",
   "execution_count": 20,
   "id": "cb0c7ed7-8e94-4570-9ef6-774150a82a0c",
   "metadata": {},
   "outputs": [
    {
     "data": {
      "text/plain": [
       "dtype('int64')"
      ]
     },
     "execution_count": 20,
     "metadata": {},
     "output_type": "execute_result"
    }
   ],
   "source": [
    "arr.dtype"
   ]
  },
  {
   "cell_type": "markdown",
   "id": "95435064-9a1f-4442-b6ed-f48e3b1d752b",
   "metadata": {},
   "source": [
    "# 7. Ndim Function"
   ]
  },
  {
   "cell_type": "code",
   "execution_count": 22,
   "id": "ece3d8c6-b629-4dd5-b3e9-48d7c8f60b6a",
   "metadata": {},
   "outputs": [
    {
     "name": "stdout",
     "output_type": "stream",
     "text": [
      "1\n",
      "2\n",
      "3\n"
     ]
    }
   ],
   "source": [
    "arr1 = np.array([1,2,3,9,7,8])\n",
    "arr2 = np.array([[4,5,6],[23,34,45]])\n",
    "print(arr1.ndim)\n",
    "print(arr2.ndim)\n",
    "\n",
    "arr3 = np.array(arr1, ndmin = 3)\n",
    "print(arr3.ndim)"
   ]
  },
  {
   "cell_type": "markdown",
   "id": "3c9308a8-4aa0-4434-8244-90f75bd74828",
   "metadata": {},
   "source": [
    "# 8. Zeros Function"
   ]
  },
  {
   "cell_type": "code",
   "execution_count": 24,
   "id": "4f801666-f471-4246-86f7-4bddac00d2b8",
   "metadata": {},
   "outputs": [
    {
     "name": "stdout",
     "output_type": "stream",
     "text": [
      "[[0 0 0 0 0]\n",
      " [0 0 0 0 0]\n",
      " [0 0 0 0 0]]\n"
     ]
    }
   ],
   "source": [
    "arr = np.zeros(shape = (3,5), dtype = int )\n",
    "print(arr)"
   ]
  },
  {
   "cell_type": "markdown",
   "id": "4bf28b10-94be-4269-8728-3e657f6785c6",
   "metadata": {},
   "source": [
    "# 9. Ones Function"
   ]
  },
  {
   "cell_type": "code",
   "execution_count": 26,
   "id": "aae349e1-f332-4765-bfc9-8a1a6f21c1a3",
   "metadata": {},
   "outputs": [
    {
     "name": "stdout",
     "output_type": "stream",
     "text": [
      "[[1 1 1 1 1]\n",
      " [1 1 1 1 1]\n",
      " [1 1 1 1 1]]\n"
     ]
    }
   ],
   "source": [
    "arr = np.ones(shape = (3,5), dtype = int)\n",
    "print(arr)"
   ]
  },
  {
   "cell_type": "markdown",
   "id": "31435e73-0f25-4b10-9383-fac0865d646c",
   "metadata": {},
   "source": [
    "# 10. Eye Function"
   ]
  },
  {
   "cell_type": "code",
   "execution_count": 28,
   "id": "678cdc30-c41e-4940-8f2f-25dc32938287",
   "metadata": {},
   "outputs": [
    {
     "data": {
      "text/plain": [
       "array([[1, 0, 0, 0, 0],\n",
       "       [0, 1, 0, 0, 0],\n",
       "       [0, 0, 1, 0, 0],\n",
       "       [0, 0, 0, 1, 0],\n",
       "       [0, 0, 0, 0, 1]])"
      ]
     },
     "execution_count": 28,
     "metadata": {},
     "output_type": "execute_result"
    }
   ],
   "source": [
    "np.eye(5, dtype = int)"
   ]
  },
  {
   "cell_type": "markdown",
   "id": "8998a67c-002f-477c-b491-4562960d63cc",
   "metadata": {},
   "source": [
    "# 11. Empty Function"
   ]
  },
  {
   "cell_type": "code",
   "execution_count": 30,
   "id": "59f8fdeb-7f9f-4080-985c-de8ce54e01e1",
   "metadata": {},
   "outputs": [
    {
     "data": {
      "text/plain": [
       "array([[0., 0., 0., 0., 0.],\n",
       "       [0., 0., 0., 0., 0.],\n",
       "       [0., 0., 0., 0., 0.],\n",
       "       [0., 0., 0., 0., 0.],\n",
       "       [0., 0., 0., 0., 0.]])"
      ]
     },
     "execution_count": 30,
     "metadata": {},
     "output_type": "execute_result"
    }
   ],
   "source": [
    "np.empty(shape = (5,5))"
   ]
  },
  {
   "cell_type": "markdown",
   "id": "a2d84354-f0aa-4442-87c6-d1957ad49345",
   "metadata": {},
   "source": [
    "# 12. Random Functions"
   ]
  },
  {
   "cell_type": "code",
   "execution_count": 32,
   "id": "b0ca644c-0c92-4f5d-ad27-ff7f2f851ed2",
   "metadata": {},
   "outputs": [
    {
     "data": {
      "text/plain": [
       "array([[0.61142137, 0.93034353, 0.49602659, 0.52485587],\n",
       "       [0.86322524, 0.39244927, 0.75511975, 0.56499214],\n",
       "       [0.42098196, 0.58703958, 0.12035239, 0.54876186]])"
      ]
     },
     "execution_count": 32,
     "metadata": {},
     "output_type": "execute_result"
    }
   ],
   "source": [
    "np.random.rand(3,4)"
   ]
  },
  {
   "cell_type": "code",
   "execution_count": 33,
   "id": "9f1aa654-069e-45a5-accf-e1c45484f209",
   "metadata": {},
   "outputs": [
    {
     "data": {
      "text/plain": [
       "array([19, 11, 17, 11, 12, 17, 15, 16, 13, 18])"
      ]
     },
     "execution_count": 33,
     "metadata": {},
     "output_type": "execute_result"
    }
   ],
   "source": [
    "np.random.randint(low = 10, high = 20, size = 10)"
   ]
  },
  {
   "cell_type": "code",
   "execution_count": 34,
   "id": "f51f2b51-935a-40f8-88e3-700ba2678cc0",
   "metadata": {},
   "outputs": [
    {
     "data": {
      "text/plain": [
       "array([-0.29819955, -0.29599755,  1.16743607,  0.81233999, -1.61917016,\n",
       "       -2.08809901,  0.19768533, -0.90444578,  0.77143104, -0.86980824,\n",
       "        0.85729147, -1.5994258 ,  0.38127993, -0.28563875,  0.34131483,\n",
       "       -0.11260412,  1.64082634, -1.708408  ,  1.8338424 ,  0.33353664,\n",
       "        1.09348667, -1.66807621,  0.98671097, -0.60772524, -0.98891656,\n",
       "       -0.98739328,  0.04038256, -0.87656898,  0.34690344, -1.03088171,\n",
       "        0.90715714,  0.02580651,  0.7650057 , -1.08699784,  0.06450545,\n",
       "       -0.30108729, -0.66796254,  0.46262892, -1.73112619, -0.07937609,\n",
       "       -1.74434395, -2.23000964,  0.90598366,  1.38379539,  1.53000908,\n",
       "        0.1784704 ,  0.64431043, -0.95391362, -1.61553783,  0.69901054,\n",
       "        0.48050792, -1.66700666,  0.29457943,  0.0049966 , -0.7259509 ,\n",
       "        0.73317826,  0.18376412,  0.42253858,  0.34337588, -0.99948296,\n",
       "       -0.15115418,  1.24132648,  0.62992041,  0.40299639,  2.67922772,\n",
       "        0.02442093, -1.55921197,  1.66168507,  0.81553139, -0.42687569,\n",
       "        1.79710571,  0.08040379, -0.56766228, -0.48036537, -0.61958109,\n",
       "       -0.19184097,  0.03599938,  0.75259023, -0.57348772,  1.24909862,\n",
       "       -0.18795035, -0.18581119,  1.32453981,  1.47273843, -1.6452001 ,\n",
       "       -0.63177964,  1.37497305,  0.07173508,  0.53506757,  0.46081238,\n",
       "        0.87409537, -0.58272759, -0.4974773 ,  0.88489877,  0.39360156,\n",
       "        0.73388262,  1.40166757, -0.2254461 ,  0.03547419,  0.84212798])"
      ]
     },
     "execution_count": 34,
     "metadata": {},
     "output_type": "execute_result"
    }
   ],
   "source": [
    "np.random.randn(100)"
   ]
  },
  {
   "cell_type": "markdown",
   "id": "80555678-b7b4-4bc0-a924-13faa00d6bcc",
   "metadata": {},
   "source": [
    "# 13. Reshape Function - will not alter the original data"
   ]
  },
  {
   "cell_type": "raw",
   "id": "931dd1da-393c-4fd8-9fff-4a5ac9fe7059",
   "metadata": {},
   "source": [
    "matrix  = np.random.randint(1, 15,(3,4))\n",
    "print(matrix)"
   ]
  },
  {
   "cell_type": "code",
   "execution_count": null,
   "id": "fd8aeda5-1658-45e4-b564-755cc7174071",
   "metadata": {},
   "outputs": [],
   "source": []
  }
 ],
 "metadata": {
  "kernelspec": {
   "display_name": "Python [conda env:base] *",
   "language": "python",
   "name": "conda-base-py"
  },
  "language_info": {
   "codemirror_mode": {
    "name": "ipython",
    "version": 3
   },
   "file_extension": ".py",
   "mimetype": "text/x-python",
   "name": "python",
   "nbconvert_exporter": "python",
   "pygments_lexer": "ipython3",
   "version": "3.12.7"
  }
 },
 "nbformat": 4,
 "nbformat_minor": 5
}
